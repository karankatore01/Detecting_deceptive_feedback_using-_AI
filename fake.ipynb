{
 "cells": [
  {
   "cell_type": "code",
   "execution_count": 17,
   "metadata": {},
   "outputs": [],
   "source": [
    "import pandas as pd\n",
    "from sklearn.model_selection import train_test_split, GridSearchCV\n",
    "from sklearn.feature_extraction.text import TfidfVectorizer\n",
    "from sklearn.linear_model import LogisticRegression\n",
    "from sklearn.ensemble import RandomForestClassifier\n",
    "from sklearn.svm import SVC\n",
    "from sklearn.metrics import accuracy_score, classification_report\n",
    "import joblib\n"
   ]
  },
  {
   "cell_type": "code",
   "execution_count": 4,
   "metadata": {},
   "outputs": [
    {
     "name": "stderr",
     "output_type": "stream",
     "text": [
      "C:\\Users\\karan\\AppData\\Local\\Temp\\ipykernel_17692\\590038731.py:2: DtypeWarning: Columns (1,2,3,4,5,6,9,10,11,12,13,14,15,16,17,18,19,20,21,22,23,24,25,26,27,29,30,31,32,33,34,35) have mixed types. Specify dtype option on import or set low_memory=False.\n",
      "  dataset = pd.read_csv(file_path, header=None)\n"
     ]
    }
   ],
   "source": [
    "file_path = 'amazon_reviews_labelled.csv'\n",
    "dataset = pd.read_csv(file_path, header=None)"
   ]
  },
  {
   "cell_type": "code",
   "execution_count": 5,
   "metadata": {},
   "outputs": [],
   "source": [
    "# Rename columns for easier access based on observed data patterns\n",
    "dataset.columns = ['Index', 'Unnamed0_3', 'Unnamed0_2', 'Unnamed0_1', 'Unnamed0', 'Rating',\n",
    "                   'VerifiedPurchase', 'ReviewTitle', 'ReviewText', 'NumNouns', 'NumVerbs',\n",
    "                   'NumAdjectives', 'NumAdverbs', 'NumParticles', 'NumPronouns', 'NumConjunctions',\n",
    "                   'NumInterjections', 'NumDeterminers', 'NumPrepositions', 'NumAuxVerbs',\n",
    "                   'NumProperNouns', 'NumModals', 'NumPossessivePronouns', 'NumQuantifiers',\n",
    "                   'NumForeignWords', 'NumOtherWords', 'CapitalCharCount', 'PunctuationCount',\n",
    "                   'PreprocessedReviewText', 'WordCount', 'SentimentScoreTitle', 'SentimentLabelTitle',\n",
    "                   'AvgRatingVerified', 'AvgRatingNonVerified', 'DeviationVerified', 'DeviationNonVerified']"
   ]
  },
  {
   "cell_type": "code",
   "execution_count": 6,
   "metadata": {},
   "outputs": [],
   "source": [
    "# Select only relevant columns and remove unnecessary rows\n",
    "review_text_column = 'PreprocessedReviewText'\n",
    "label_column = 'SentimentLabelTitle'\n",
    "dataset_filtered = dataset[[review_text_column, label_column]].dropna().iloc[1:].reset_index(drop=True)\n",
    "dataset_filtered[label_column] = dataset_filtered[label_column].astype(int)"
   ]
  },
  {
   "cell_type": "code",
   "execution_count": 7,
   "metadata": {},
   "outputs": [],
   "source": [
    "# Split data into features and labels\n",
    "X = dataset_filtered[review_text_column]\n",
    "y = dataset_filtered[label_column]\n"
   ]
  },
  {
   "cell_type": "code",
   "execution_count": 8,
   "metadata": {},
   "outputs": [],
   "source": [
    "# Split the dataset into training and testing sets\n",
    "X_train, X_test, y_train, y_test = train_test_split(X, y, test_size=0.2, random_state=42)\n"
   ]
  },
  {
   "cell_type": "code",
   "execution_count": 9,
   "metadata": {},
   "outputs": [],
   "source": [
    "# Vectorize the text data using TF-IDF\n",
    "tfidf_vectorizer = TfidfVectorizer(max_features=5000)\n",
    "X_train_tfidf = tfidf_vectorizer.fit_transform(X_train)\n",
    "X_test_tfidf = tfidf_vectorizer.transform(X_test)"
   ]
  },
  {
   "cell_type": "code",
   "execution_count": 10,
   "metadata": {},
   "outputs": [],
   "source": [
    "# Initialize models\n",
    "models = {\n",
    "    'Random Forest': RandomForestClassifier(random_state=12),\n",
    "    'SVM': SVC(random_state=12)\n",
    "}\n"
   ]
  },
  {
   "cell_type": "code",
   "execution_count": 12,
   "metadata": {},
   "outputs": [],
   "source": [
    "# Hyperparameter tuning for each model\n",
    "param_grid = {\n",
    "    'Random Forest': {\n",
    "        'n_estimators': [50, 100, 200],\n",
    "        'max_depth': [None, 10, 20]\n",
    "    },\n",
    "    'SVM': {\n",
    "        'C': [0.1, 1, 10],\n",
    "        'kernel': ['linear', 'rbf']\n",
    "    }\n",
    "}\n",
    "best_models = {}\n",
    "best_scores = {}\n",
    "\n",
    "for model_name, model in models.items():\n",
    "    grid = GridSearchCV(model, param_grid[model_name], cv=5, scoring='accuracy', n_jobs=-1)\n",
    "    grid.fit(X_train_tfidf, y_train)\n",
    "    best_models[model_name] = grid.best_estimator_\n",
    "    best_scores[model_name] = grid.best_score_\n"
   ]
  },
  {
   "cell_type": "code",
   "execution_count": 13,
   "metadata": {},
   "outputs": [],
   "source": [
    "# Evaluate the best model on test data\n",
    "best_model_name = max(best_scores, key=best_scores.get)\n",
    "best_model = best_models[best_model_name]\n",
    "y_pred = best_model.predict(X_test_tfidf)"
   ]
  },
  {
   "cell_type": "code",
   "execution_count": 14,
   "metadata": {},
   "outputs": [],
   "source": [
    "# Calculate and display accuracy and classification report\n",
    "accuracy = accuracy_score(y_test, y_pred)\n",
    "classification_rep = classification_report(y_test, y_pred)"
   ]
  },
  {
   "cell_type": "code",
   "execution_count": 15,
   "metadata": {},
   "outputs": [
    {
     "name": "stdout",
     "output_type": "stream",
     "text": [
      "Accuracy: 0.6916666666666667\n",
      "Classification Report:\n",
      "               precision    recall  f1-score   support\n",
      "\n",
      "           0       0.68      0.37      0.48      1614\n",
      "           1       0.69      0.89      0.78      2586\n",
      "\n",
      "    accuracy                           0.69      4200\n",
      "   macro avg       0.69      0.63      0.63      4200\n",
      "weighted avg       0.69      0.69      0.67      4200\n",
      "\n"
     ]
    }
   ],
   "source": [
    "print(\"Accuracy:\", accuracy_score(y_test, y_pred))\n",
    "print(\"Classification Report:\\n\", classification_report(y_test, y_pred))"
   ]
  },
  {
   "cell_type": "code",
   "execution_count": 18,
   "metadata": {},
   "outputs": [
    {
     "data": {
      "text/plain": [
       "['tfidf_vectorizer.pkl']"
      ]
     },
     "execution_count": 18,
     "metadata": {},
     "output_type": "execute_result"
    }
   ],
   "source": [
    "# Save model and vectorizer for deployment\n",
    "joblib.dump(best_model, 'fake_review_detector_model.pkl')\n",
    "joblib.dump(tfidf_vectorizer, 'tfidf_vectorizer.pkl')"
   ]
  },
  {
   "cell_type": "code",
   "execution_count": 19,
   "metadata": {},
   "outputs": [
    {
     "data": {
      "text/html": [
       "<div>\n",
       "<style scoped>\n",
       "    .dataframe tbody tr th:only-of-type {\n",
       "        vertical-align: middle;\n",
       "    }\n",
       "\n",
       "    .dataframe tbody tr th {\n",
       "        vertical-align: top;\n",
       "    }\n",
       "\n",
       "    .dataframe thead th {\n",
       "        text-align: right;\n",
       "    }\n",
       "</style>\n",
       "<table border=\"1\" class=\"dataframe\">\n",
       "  <thead>\n",
       "    <tr style=\"text-align: right;\">\n",
       "      <th></th>\n",
       "      <th>Index</th>\n",
       "      <th>Unnamed0_3</th>\n",
       "      <th>Unnamed0_2</th>\n",
       "      <th>Unnamed0_1</th>\n",
       "      <th>Unnamed0</th>\n",
       "      <th>Rating</th>\n",
       "      <th>VerifiedPurchase</th>\n",
       "      <th>ReviewTitle</th>\n",
       "      <th>ReviewText</th>\n",
       "      <th>NumNouns</th>\n",
       "      <th>...</th>\n",
       "      <th>CapitalCharCount</th>\n",
       "      <th>PunctuationCount</th>\n",
       "      <th>PreprocessedReviewText</th>\n",
       "      <th>WordCount</th>\n",
       "      <th>SentimentScoreTitle</th>\n",
       "      <th>SentimentLabelTitle</th>\n",
       "      <th>AvgRatingVerified</th>\n",
       "      <th>AvgRatingNonVerified</th>\n",
       "      <th>DeviationVerified</th>\n",
       "      <th>DeviationNonVerified</th>\n",
       "    </tr>\n",
       "  </thead>\n",
       "  <tbody>\n",
       "    <tr>\n",
       "      <th>0</th>\n",
       "      <td>NaN</td>\n",
       "      <td>Unnamed: 0.3</td>\n",
       "      <td>Unnamed: 0.2</td>\n",
       "      <td>Unnamed: 0.1</td>\n",
       "      <td>Unnamed: 0</td>\n",
       "      <td>RATING</td>\n",
       "      <td>VERIFIED_PURCHASE</td>\n",
       "      <td>REVIEW_TITLE</td>\n",
       "      <td>REVIEW_TEXT</td>\n",
       "      <td>NUM_NOUNS</td>\n",
       "      <td>...</td>\n",
       "      <td>CAPITAL_CHAR_COUNT</td>\n",
       "      <td>PUNCTUATION_COUNT</td>\n",
       "      <td>PREPROCESSED_REVIEW_TEXT</td>\n",
       "      <td>WORD_COUNT</td>\n",
       "      <td>SENTIMENT_SCORE_TITLE</td>\n",
       "      <td>SENTIMENT_LABEL_TITLE</td>\n",
       "      <td>AVG_RATING_VERIFIED</td>\n",
       "      <td>AVG_RATING_NON_VERIFIED</td>\n",
       "      <td>DEVIATION_VERIFIED</td>\n",
       "      <td>DEVIATION_NON_VERIFIED</td>\n",
       "    </tr>\n",
       "    <tr>\n",
       "      <th>1</th>\n",
       "      <td>0.0</td>\n",
       "      <td>0</td>\n",
       "      <td>0</td>\n",
       "      <td>0</td>\n",
       "      <td>0</td>\n",
       "      <td>4</td>\n",
       "      <td>0</td>\n",
       "      <td>useful</td>\n",
       "      <td>think so product save day case need someth</td>\n",
       "      <td>4</td>\n",
       "      <td>...</td>\n",
       "      <td>0</td>\n",
       "      <td>0</td>\n",
       "      <td>think product save day case need someth</td>\n",
       "      <td>8</td>\n",
       "      <td>0.4404</td>\n",
       "      <td>1</td>\n",
       "      <td>4.243802359377671</td>\n",
       "      <td>3.9822618791657707</td>\n",
       "      <td>0.24380235937767125</td>\n",
       "      <td>0.01773812083422932</td>\n",
       "    </tr>\n",
       "    <tr>\n",
       "      <th>2</th>\n",
       "      <td>1.0</td>\n",
       "      <td>1</td>\n",
       "      <td>1</td>\n",
       "      <td>1</td>\n",
       "      <td>1</td>\n",
       "      <td>4</td>\n",
       "      <td>1</td>\n",
       "      <td>New era for batteries</td>\n",
       "      <td>lithium batteri new introduc market averag dev...</td>\n",
       "      <td>15</td>\n",
       "      <td>...</td>\n",
       "      <td>0</td>\n",
       "      <td>0</td>\n",
       "      <td>lithium batteri new introduc market averag dev...</td>\n",
       "      <td>37</td>\n",
       "      <td>0.0</td>\n",
       "      <td>0</td>\n",
       "      <td>4.243802359377671</td>\n",
       "      <td>3.9822618791657707</td>\n",
       "      <td>0.24380235937767125</td>\n",
       "      <td>0.01773812083422932</td>\n",
       "    </tr>\n",
       "    <tr>\n",
       "      <th>3</th>\n",
       "      <td>2.0</td>\n",
       "      <td>2</td>\n",
       "      <td>2</td>\n",
       "      <td>2</td>\n",
       "      <td>2</td>\n",
       "      <td>3</td>\n",
       "      <td>0</td>\n",
       "      <td>doesn't swing very well.</td>\n",
       "      <td>purchas swing babi 6 month pretti grow -pron- ...</td>\n",
       "      <td>7</td>\n",
       "      <td>...</td>\n",
       "      <td>0</td>\n",
       "      <td>2</td>\n",
       "      <td>purcha swing babi 6 month pretti grow -pron- l...</td>\n",
       "      <td>24</td>\n",
       "      <td>-0.2572</td>\n",
       "      <td>0</td>\n",
       "      <td>4.243802359377671</td>\n",
       "      <td>3.9822618791657707</td>\n",
       "      <td>1.2438023593776713</td>\n",
       "      <td>0.9822618791657707</td>\n",
       "    </tr>\n",
       "    <tr>\n",
       "      <th>4</th>\n",
       "      <td>3.0</td>\n",
       "      <td>3</td>\n",
       "      <td>3</td>\n",
       "      <td>3</td>\n",
       "      <td>3</td>\n",
       "      <td>4</td>\n",
       "      <td>0</td>\n",
       "      <td>Great computing!</td>\n",
       "      <td>look inexpen desk calcolatur be work ne issu t...</td>\n",
       "      <td>8</td>\n",
       "      <td>...</td>\n",
       "      <td>0</td>\n",
       "      <td>0</td>\n",
       "      <td>look inexpen desk calcolatur work ne issu tilt...</td>\n",
       "      <td>17</td>\n",
       "      <td>0.6588</td>\n",
       "      <td>1</td>\n",
       "      <td>4.243802359377671</td>\n",
       "      <td>3.9822618791657707</td>\n",
       "      <td>0.24380235937767125</td>\n",
       "      <td>0.01773812083422932</td>\n",
       "    </tr>\n",
       "  </tbody>\n",
       "</table>\n",
       "<p>5 rows × 36 columns</p>\n",
       "</div>"
      ],
      "text/plain": [
       "   Index    Unnamed0_3    Unnamed0_2    Unnamed0_1    Unnamed0  Rating  \\\n",
       "0    NaN  Unnamed: 0.3  Unnamed: 0.2  Unnamed: 0.1  Unnamed: 0  RATING   \n",
       "1    0.0             0             0             0           0       4   \n",
       "2    1.0             1             1             1           1       4   \n",
       "3    2.0             2             2             2           2       3   \n",
       "4    3.0             3             3             3           3       4   \n",
       "\n",
       "    VerifiedPurchase               ReviewTitle  \\\n",
       "0  VERIFIED_PURCHASE              REVIEW_TITLE   \n",
       "1                  0                    useful   \n",
       "2                  1     New era for batteries   \n",
       "3                  0  doesn't swing very well.   \n",
       "4                  0          Great computing!   \n",
       "\n",
       "                                          ReviewText   NumNouns  ...  \\\n",
       "0                                        REVIEW_TEXT  NUM_NOUNS  ...   \n",
       "1         think so product save day case need someth          4  ...   \n",
       "2  lithium batteri new introduc market averag dev...         15  ...   \n",
       "3  purchas swing babi 6 month pretti grow -pron- ...          7  ...   \n",
       "4  look inexpen desk calcolatur be work ne issu t...          8  ...   \n",
       "\n",
       "     CapitalCharCount   PunctuationCount  \\\n",
       "0  CAPITAL_CHAR_COUNT  PUNCTUATION_COUNT   \n",
       "1                   0                  0   \n",
       "2                   0                  0   \n",
       "3                   0                  2   \n",
       "4                   0                  0   \n",
       "\n",
       "                              PreprocessedReviewText   WordCount  \\\n",
       "0                           PREPROCESSED_REVIEW_TEXT  WORD_COUNT   \n",
       "1            think product save day case need someth           8   \n",
       "2  lithium batteri new introduc market averag dev...          37   \n",
       "3  purcha swing babi 6 month pretti grow -pron- l...          24   \n",
       "4  look inexpen desk calcolatur work ne issu tilt...          17   \n",
       "\n",
       "     SentimentScoreTitle    SentimentLabelTitle    AvgRatingVerified  \\\n",
       "0  SENTIMENT_SCORE_TITLE  SENTIMENT_LABEL_TITLE  AVG_RATING_VERIFIED   \n",
       "1                 0.4404                      1    4.243802359377671   \n",
       "2                    0.0                      0    4.243802359377671   \n",
       "3                -0.2572                      0    4.243802359377671   \n",
       "4                 0.6588                      1    4.243802359377671   \n",
       "\n",
       "      AvgRatingNonVerified    DeviationVerified    DeviationNonVerified  \n",
       "0  AVG_RATING_NON_VERIFIED   DEVIATION_VERIFIED  DEVIATION_NON_VERIFIED  \n",
       "1       3.9822618791657707  0.24380235937767125     0.01773812083422932  \n",
       "2       3.9822618791657707  0.24380235937767125     0.01773812083422932  \n",
       "3       3.9822618791657707   1.2438023593776713      0.9822618791657707  \n",
       "4       3.9822618791657707  0.24380235937767125     0.01773812083422932  \n",
       "\n",
       "[5 rows x 36 columns]"
      ]
     },
     "execution_count": 19,
     "metadata": {},
     "output_type": "execute_result"
    }
   ],
   "source": [
    "dataset.head()"
   ]
  },
  {
   "cell_type": "code",
   "execution_count": null,
   "metadata": {},
   "outputs": [],
   "source": []
  }
 ],
 "metadata": {
  "kernelspec": {
   "display_name": "Python 3",
   "language": "python",
   "name": "python3"
  },
  "language_info": {
   "codemirror_mode": {
    "name": "ipython",
    "version": 3
   },
   "file_extension": ".py",
   "mimetype": "text/x-python",
   "name": "python",
   "nbconvert_exporter": "python",
   "pygments_lexer": "ipython3",
   "version": "3.11.9"
  }
 },
 "nbformat": 4,
 "nbformat_minor": 2
}
